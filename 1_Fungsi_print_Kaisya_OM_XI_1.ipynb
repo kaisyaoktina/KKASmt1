{
  "nbformat": 4,
  "nbformat_minor": 0,
  "metadata": {
    "colab": {
      "provenance": [],
      "authorship_tag": "ABX9TyPYF9fkIpeyBadk7Y/Kkh8g",
      "include_colab_link": true
    },
    "kernelspec": {
      "name": "python3",
      "display_name": "Python 3"
    },
    "language_info": {
      "name": "python"
    }
  },
  "cells": [
    {
      "cell_type": "markdown",
      "metadata": {
        "id": "view-in-github",
        "colab_type": "text"
      },
      "source": [
        "<a href=\"https://colab.research.google.com/github/kaisyaoktina/KKASmt1/blob/main/1_Fungsi_print_Kaisya_OM_XI_1.ipynb\" target=\"_parent\"><img src=\"https://colab.research.google.com/assets/colab-badge.svg\" alt=\"Open In Colab\"/></a>"
      ]
    },
    {
      "cell_type": "markdown",
      "source": [
        "# Menampilkan Teks Bebas"
      ],
      "metadata": {
        "id": "zF9ZL-TFHHI0"
      }
    },
    {
      "cell_type": "code",
      "execution_count": null,
      "metadata": {
        "colab": {
          "base_uri": "https://localhost:8080/"
        },
        "id": "AoOjzuyTFECJ",
        "outputId": "71f21375-f737-497b-a4b1-bba41fd424cb"
      },
      "outputs": [
        {
          "output_type": "stream",
          "name": "stdout",
          "text": [
            "Halo dunia\n"
          ]
        }
      ],
      "source": [
        "print(\"Halo dunia\")"
      ]
    },
    {
      "cell_type": "code",
      "source": [
        "print('Selamat datang di Python')"
      ],
      "metadata": {
        "colab": {
          "base_uri": "https://localhost:8080/"
        },
        "id": "HseNgFswGY9a",
        "outputId": "b2357517-ed46-4d9a-9f6a-6a0cfb9aef14"
      },
      "execution_count": null,
      "outputs": [
        {
          "output_type": "stream",
          "name": "stdout",
          "text": [
            "Selamat datang di Python\n"
          ]
        }
      ]
    },
    {
      "cell_type": "code",
      "source": [
        "print(\"Belajar Python itu menyenangkan!\")"
      ],
      "metadata": {
        "colab": {
          "base_uri": "https://localhost:8080/"
        },
        "id": "exYjuWNHE5W4",
        "outputId": "85b7fa32-8e99-4c7a-dfd7-b2f997d47c6e"
      },
      "execution_count": null,
      "outputs": [
        {
          "output_type": "stream",
          "name": "stdout",
          "text": [
            "Belajar Python itu menyenangkan!\n"
          ]
        }
      ]
    },
    {
      "cell_type": "code",
      "source": [
        "print(\"Kaisya Oktina Mawaddah\")"
      ],
      "metadata": {
        "colab": {
          "base_uri": "https://localhost:8080/"
        },
        "id": "pdc-r3EeGnO-",
        "outputId": "2f98f73a-fc71-41dd-f1db-feff3194b4b3"
      },
      "execution_count": null,
      "outputs": [
        {
          "output_type": "stream",
          "name": "stdout",
          "text": [
            "Kaisya Oktina Mawaddah\n"
          ]
        }
      ]
    },
    {
      "cell_type": "markdown",
      "source": [
        "# Variabel"
      ],
      "metadata": {
        "id": "-cm7jmalIHYc"
      }
    },
    {
      "cell_type": "code",
      "source": [
        "nama = \"Kaisya\"\n",
        "\n",
        "print(nama)"
      ],
      "metadata": {
        "colab": {
          "base_uri": "https://localhost:8080/"
        },
        "id": "YYy-vd9HFOXx",
        "outputId": "12832d01-33eb-4b18-f48d-13cbf31bb7a4"
      },
      "execution_count": null,
      "outputs": [
        {
          "output_type": "stream",
          "name": "stdout",
          "text": [
            "Kaisya\n"
          ]
        }
      ]
    },
    {
      "cell_type": "code",
      "source": [
        "BB = 47\n",
        "print(BB)"
      ],
      "metadata": {
        "colab": {
          "base_uri": "https://localhost:8080/"
        },
        "id": "duTnahE_IZSX",
        "outputId": "d283a226-c6b0-4e41-eb38-3db0de0079e3"
      },
      "execution_count": null,
      "outputs": [
        {
          "output_type": "stream",
          "name": "stdout",
          "text": [
            "47\n"
          ]
        }
      ]
    },
    {
      "cell_type": "code",
      "source": [
        "umur = 17\n",
        "print(umur)"
      ],
      "metadata": {
        "colab": {
          "base_uri": "https://localhost:8080/"
        },
        "id": "PmQMoHkZIvMW",
        "outputId": "9d89af5d-1f25-424e-ad49-d7eba9b1a581"
      },
      "execution_count": null,
      "outputs": [
        {
          "output_type": "stream",
          "name": "stdout",
          "text": [
            "17\n"
          ]
        }
      ]
    },
    {
      "cell_type": "markdown",
      "source": [
        "# Menampilkan teks bebas dan variabel"
      ],
      "metadata": {
        "id": "Vu9efjiBI5zf"
      }
    },
    {
      "cell_type": "code",
      "source": [
        "umur = 17\n",
        "print(f\"Umur saya {umur} tahun\")"
      ],
      "metadata": {
        "colab": {
          "base_uri": "https://localhost:8080/"
        },
        "id": "m-mjubd3bcFn",
        "outputId": "f82321ff-1bd7-458c-f227-31a1157c36da"
      },
      "execution_count": null,
      "outputs": [
        {
          "output_type": "stream",
          "name": "stdout",
          "text": [
            "Umur saya 17 tahun\n"
          ]
        }
      ]
    },
    {
      "cell_type": "code",
      "source": [
        "harga_telur = 27000\n",
        "\n",
        "print(\"Harga telur per 1 kg adalah\", harga_telur)"
      ],
      "metadata": {
        "colab": {
          "base_uri": "https://localhost:8080/"
        },
        "id": "0XPcuPqDBsHJ",
        "outputId": "53986e74-e04d-4403-9931-2396e435b65c"
      },
      "execution_count": null,
      "outputs": [
        {
          "output_type": "stream",
          "name": "stdout",
          "text": [
            "Harga telur per 1 kg adalah 27000\n"
          ]
        }
      ]
    },
    {
      "cell_type": "code",
      "source": [
        "nama_pembeli = \"Kaisya\"\n",
        "print(\"Nama pembeli telur adalah \" + str(nama_pembeli))"
      ],
      "metadata": {
        "colab": {
          "base_uri": "https://localhost:8080/"
        },
        "id": "0TSDF0MyF2jw",
        "outputId": "9767c212-2cad-414c-eecd-4eb339383ab9"
      },
      "execution_count": null,
      "outputs": [
        {
          "output_type": "stream",
          "name": "stdout",
          "text": [
            "Nama pembeli telur adalah Kaisya\n"
          ]
        }
      ]
    },
    {
      "cell_type": "code",
      "source": [
        "harga_telur = 26000\n",
        "\n",
        "print(\"Harga telur per 1 kg adalah \" + str(harga_telur))"
      ],
      "metadata": {
        "colab": {
          "base_uri": "https://localhost:8080/"
        },
        "id": "k0L8K1UeDO0Y",
        "outputId": "d1d786b7-09c3-4c0e-f8e6-0585ef8d73c6"
      },
      "execution_count": null,
      "outputs": [
        {
          "output_type": "stream",
          "name": "stdout",
          "text": [
            "Harga telur per 1 kg adalah 26000\n"
          ]
        }
      ]
    },
    {
      "cell_type": "markdown",
      "source": [
        "#Escape Character"
      ],
      "metadata": {
        "id": "DjYUGgNUJHw6"
      }
    },
    {
      "cell_type": "code",
      "source": [
        "print(\"Nama: Kaisya Oktina Mawaddah\")\n",
        "print(\"Kelas: XI-1\")\n",
        "print(\"Nomor absen: 21\")"
      ],
      "metadata": {
        "colab": {
          "base_uri": "https://localhost:8080/"
        },
        "id": "ugIbEtuxJPWj",
        "outputId": "b07e40bd-701a-4caa-892c-7b420557ae40"
      },
      "execution_count": null,
      "outputs": [
        {
          "output_type": "stream",
          "name": "stdout",
          "text": [
            "Nama: Kaisya Oktina Mawaddah\n",
            "Kelas: XI-1\n",
            "Nomor absen: 21\n"
          ]
        }
      ]
    },
    {
      "cell_type": "code",
      "source": [
        "print(\"Nama\\t\\t: Kaisya Oktina Mawaddah\\nKelas\\t\\t: XI-1\\nNomer absen\\t: 21\")"
      ],
      "metadata": {
        "colab": {
          "base_uri": "https://localhost:8080/"
        },
        "id": "vrlwVGghKVQN",
        "outputId": "49b66596-db9a-4c60-b3e2-b2c04e5a0152"
      },
      "execution_count": null,
      "outputs": [
        {
          "output_type": "stream",
          "name": "stdout",
          "text": [
            "Nama\t\t: Kaisya Oktina Mawaddah\n",
            "Kelas\t\t: XI-1\n",
            "Nomer absen\t: 21\n"
          ]
        }
      ]
    },
    {
      "cell_type": "code",
      "source": [
        "print(\"\"\"Nama: Kaisya Oktina Mawaddah\n",
        "Kelas: XI-1\n",
        "Nomor absen: 28\"\"\")"
      ],
      "metadata": {
        "colab": {
          "base_uri": "https://localhost:8080/"
        },
        "id": "FKVx5UejLCSq",
        "outputId": "b4009bde-ee2d-4d40-abeb-7bb01021a409"
      },
      "execution_count": null,
      "outputs": [
        {
          "output_type": "stream",
          "name": "stdout",
          "text": [
            "Nama: Kaisya Oktina Mawaddah\n",
            "Kelas: XI-1\n",
            "Nomor absen: 28\n"
          ]
        }
      ]
    },
    {
      "cell_type": "code",
      "source": [
        "print('Rifa\\'a Nabilah')"
      ],
      "metadata": {
        "colab": {
          "base_uri": "https://localhost:8080/"
        },
        "id": "_2raS_SFCQ5f",
        "outputId": "adbdb084-3167-4d3a-c158-051f94e63b24"
      },
      "execution_count": null,
      "outputs": [
        {
          "output_type": "stream",
          "name": "stdout",
          "text": [
            "Rifa'a Nabilah\n"
          ]
        }
      ]
    },
    {
      "cell_type": "code",
      "source": [
        "print(\"Rifa'a Nabilah\")"
      ],
      "metadata": {
        "colab": {
          "base_uri": "https://localhost:8080/"
        },
        "id": "AWmfZoHcCmtw",
        "outputId": "044a7885-0597-44d2-d4f8-ddd5ae5005a9"
      },
      "execution_count": null,
      "outputs": [
        {
          "output_type": "stream",
          "name": "stdout",
          "text": [
            "Rifa'a Nabilah\n"
          ]
        }
      ]
    },
    {
      "cell_type": "code",
      "source": [
        "print(\"Bu Shinta berkata, \\\"Semua harus menyimak pelajaran.\\\"\")"
      ],
      "metadata": {
        "colab": {
          "base_uri": "https://localhost:8080/"
        },
        "id": "GDSS9qcZCxGP",
        "outputId": "e10c5310-04e2-4e2a-f016-c17b109f2405"
      },
      "execution_count": null,
      "outputs": [
        {
          "output_type": "stream",
          "name": "stdout",
          "text": [
            "Bu Shinta berkata, \"Semua harus menyimak pelajaran.\"\n"
          ]
        }
      ]
    },
    {
      "cell_type": "code",
      "source": [
        "print('Bu Shinta berkata, \"Semua harus menyimak pelajaran.\"')"
      ],
      "metadata": {
        "colab": {
          "base_uri": "https://localhost:8080/"
        },
        "id": "lKbbnJLGDY6t",
        "outputId": "2f7a1ddb-1f93-40b9-a2ba-5283a421dda4"
      },
      "execution_count": null,
      "outputs": [
        {
          "output_type": "stream",
          "name": "stdout",
          "text": [
            "Bu Shinta berkata, \"Semua harus menyimak pelajaran.\"\n"
          ]
        }
      ]
    },
    {
      "cell_type": "code",
      "source": [
        "print(\"Lokasi file video karnaval ada di D:\\\\Karnaval 2025\\\\mp4\")"
      ],
      "metadata": {
        "colab": {
          "base_uri": "https://localhost:8080/"
        },
        "id": "ArphEQmsgsGO",
        "outputId": "ad685ff0-bea2-4766-f765-c62e52832c77"
      },
      "execution_count": null,
      "outputs": [
        {
          "output_type": "stream",
          "name": "stdout",
          "text": [
            "Lokasi file video karnaval ada di D:\\Karnaval 2025\\mp4\n"
          ]
        }
      ]
    },
    {
      "cell_type": "markdown",
      "source": [
        "Latihan soal\n",
        "\n",
        "1. Tampilkan teks bebas: Hari ini saya bahagia belajar bahasa python\n",
        "2. Tampilkan nilai variabel: mata_pelajaran_favorit = Kode dan Kecerdasan Buatan\n",
        "3. Tampilkan nilai variabel: nilai_kka = 100\n",
        "4. Tampilkan teks bebas dan nilai variabel dengan tiga mode (f string,\"+\", \",\"): \"Nilai KKA saya adalah {nilai_kka} loh!\""
      ],
      "metadata": {
        "id": "6pIbC1ElHCFy"
      }
    },
    {
      "cell_type": "code",
      "source": [
        "print(\"Hari ini saya bahagia belajar bahasa python\")"
      ],
      "metadata": {
        "colab": {
          "base_uri": "https://localhost:8080/"
        },
        "id": "Bfs5Mn_Cd4Iu",
        "outputId": "f4b63491-350b-4f3c-ff0a-dfed51cd1dd2"
      },
      "execution_count": null,
      "outputs": [
        {
          "output_type": "stream",
          "name": "stdout",
          "text": [
            "Hari ini saya bahagia belajar bahasa python\n"
          ]
        }
      ]
    },
    {
      "cell_type": "code",
      "source": [
        "mata_pelajaran_favorit = \"Seni Budaya\"\n",
        "\n",
        "print(mata_pelajaran_favorit)"
      ],
      "metadata": {
        "colab": {
          "base_uri": "https://localhost:8080/"
        },
        "id": "JKOO01imhmxv",
        "outputId": "36b9059c-78e8-4460-de33-13e3a4d4debe"
      },
      "execution_count": null,
      "outputs": [
        {
          "output_type": "stream",
          "name": "stdout",
          "text": [
            "Seni Budaya\n"
          ]
        }
      ]
    },
    {
      "cell_type": "code",
      "source": [
        "nilai_kka = 100\n",
        "print(nilai_kka)"
      ],
      "metadata": {
        "colab": {
          "base_uri": "https://localhost:8080/"
        },
        "id": "pxhTTw-ig6v3",
        "outputId": "bc9d6f27-3e4f-4ecf-8cb6-7087e2106714"
      },
      "execution_count": null,
      "outputs": [
        {
          "output_type": "stream",
          "name": "stdout",
          "text": [
            "100\n"
          ]
        }
      ]
    },
    {
      "cell_type": "code",
      "source": [
        "nilai_kka = 98\n",
        "print(f\"\\\"Nilai KKA saya adalah {nilai_kka} loh!\\\"\")"
      ],
      "metadata": {
        "colab": {
          "base_uri": "https://localhost:8080/"
        },
        "id": "mwZntQQSjMmw",
        "outputId": "66ce4340-dd2c-43b1-939e-7f06f2266681"
      },
      "execution_count": null,
      "outputs": [
        {
          "output_type": "stream",
          "name": "stdout",
          "text": [
            "\"Nilai KKA saya adalah 98 loh!\"\n"
          ]
        }
      ]
    },
    {
      "cell_type": "code",
      "source": [
        "nilai_kka = 98\n",
        "print(\"\\\"Nilai KKA saya adalah \" + str(nilai_kka) + \" loh!\\\"\")"
      ],
      "metadata": {
        "colab": {
          "base_uri": "https://localhost:8080/"
        },
        "id": "7Cggs4M2nrdy",
        "outputId": "9142973e-c438-4b41-ce8d-75af390d9c54"
      },
      "execution_count": null,
      "outputs": [
        {
          "output_type": "stream",
          "name": "stdout",
          "text": [
            "\"Nilai KKA saya adalah 98 loh!\"\n"
          ]
        }
      ]
    },
    {
      "cell_type": "code",
      "source": [
        "nilai_kka = 98\n",
        "print(\"\\\"Nilai KKA saya adalah\", nilai_kka, \"loh!\\\"\")"
      ],
      "metadata": {
        "colab": {
          "base_uri": "https://localhost:8080/"
        },
        "id": "EE9EDCjik6pk",
        "outputId": "f6f94ef0-ba2e-406f-dba9-ae7988c6ee91"
      },
      "execution_count": null,
      "outputs": [
        {
          "output_type": "stream",
          "name": "stdout",
          "text": [
            "\"Nilai KKA saya adalah 98 loh!\"\n"
          ]
        }
      ]
    },
    {
      "cell_type": "markdown",
      "source": [
        "#Parameter Fungsi Print"
      ],
      "metadata": {
        "id": "8tr650u_Gqzc"
      }
    },
    {
      "cell_type": "code",
      "source": [
        "Tahun = 2000\n",
        "Bulan = \"Februari\"\n",
        "Tanggal = 18\n",
        "\n",
        "print(Tanggal, end=\" \")\n",
        "print(Bulan, end=\" \")\n",
        "print(Tahun)"
      ],
      "metadata": {
        "colab": {
          "base_uri": "https://localhost:8080/"
        },
        "id": "m15fR81qG3tZ",
        "outputId": "ca199ae6-110b-40cb-b8a9-0f1ad9701e34"
      },
      "execution_count": null,
      "outputs": [
        {
          "output_type": "stream",
          "name": "stdout",
          "text": [
            "18 Februari 2000\n"
          ]
        }
      ]
    },
    {
      "cell_type": "code",
      "source": [
        "Tahun = 2000\n",
        "Bulan = \"Februari\"\n",
        "Tanggal = 18\n",
        "print(Tanggal, Bulan, Tahun, sep=\"/\")"
      ],
      "metadata": {
        "colab": {
          "base_uri": "https://localhost:8080/"
        },
        "id": "4kJReFHoIAr7",
        "outputId": "51480050-c0f6-45b9-8af0-0bff8574080e"
      },
      "execution_count": null,
      "outputs": [
        {
          "output_type": "stream",
          "name": "stdout",
          "text": [
            "18/Februari/2000\n"
          ]
        }
      ]
    },
    {
      "cell_type": "markdown",
      "source": [
        "Latihan\n",
        "\n",
        "Tanggal Bulan Tahun"
      ],
      "metadata": {
        "id": "H1Su0lbMJKTV"
      }
    },
    {
      "cell_type": "code",
      "source": [
        "Tahun = 2008\n",
        "Bulan = \"Oktober\"\n",
        "Tanggal = 8\n",
        "\n",
        "print(Tanggal, end=\" \")\n",
        "print(Bulan, end=\" \")\n",
        "print(Tahun)"
      ],
      "metadata": {
        "colab": {
          "base_uri": "https://localhost:8080/"
        },
        "id": "Tk_3S5znkdh1",
        "outputId": "0000536b-dac7-499a-b70d-72e0870078c8"
      },
      "execution_count": null,
      "outputs": [
        {
          "output_type": "stream",
          "name": "stdout",
          "text": [
            "8 Oktober 2008\n"
          ]
        }
      ]
    },
    {
      "cell_type": "code",
      "source": [
        "Tahun = 2008\n",
        "Bulan = \"Oktober\"\n",
        "Tanggal = 8\n",
        "\n",
        "print(Tanggal, Bulan, Tahun, sep=\"/\")"
      ],
      "metadata": {
        "colab": {
          "base_uri": "https://localhost:8080/"
        },
        "id": "bSTBN0TTKkF6",
        "outputId": "7ad442d3-f713-4b7b-b243-3c3cd98daca6"
      },
      "execution_count": null,
      "outputs": [
        {
          "output_type": "stream",
          "name": "stdout",
          "text": [
            "8/Oktober/2008\n"
          ]
        }
      ]
    },
    {
      "cell_type": "code",
      "source": [
        "Nama_depan = \"Kaisya\"\n",
        "Nama_belakang = \"Oktina\"\n",
        "\n",
        "print(Nama_depan, Nama_belakang)"
      ],
      "metadata": {
        "colab": {
          "base_uri": "https://localhost:8080/"
        },
        "id": "Ub2EV3InJTwb",
        "outputId": "ce08dd17-8159-4739-9850-664c0914ccf1"
      },
      "execution_count": null,
      "outputs": [
        {
          "output_type": "stream",
          "name": "stdout",
          "text": [
            "Kaisya Oktina\n"
          ]
        }
      ]
    },
    {
      "cell_type": "code",
      "source": [
        "Nama_depan = \"Kaisya\"\n",
        "Nama_belakang = \"Oktina\"\n",
        "\n",
        "print(Nama_depan, end=\" \")\n",
        "print(Nama_belakang)"
      ],
      "metadata": {
        "colab": {
          "base_uri": "https://localhost:8080/"
        },
        "id": "GqUXpe1jJ2CU",
        "outputId": "7425ba9e-8919-4f9e-ced0-c298c214e614"
      },
      "execution_count": null,
      "outputs": [
        {
          "output_type": "stream",
          "name": "stdout",
          "text": [
            "Kaisya Oktina\n"
          ]
        }
      ]
    },
    {
      "cell_type": "code",
      "source": [
        "print(\"Bu Shinta berkata, \\\"Berikut adalah judul pelajaran hari senin selasa rabu silahkan disimpan di laptop masing masing di folder local disk D:\\\\Jadwal Pelajaran\\\\Kelas XI Semester 1\\\"\")\n",
        "\n",
        "print(\"\\nJadwal Pelajaran Mingguan\")\n",
        "print(\"====================================================\")\n",
        "print(\"Jam\\tSenin\\t\\tSelasa\\t\\tRabu\")\n",
        "print(\"Jam 1\\tMatematika\\tBahasa\\t\\tInformatika\")\n",
        "print(\"Jam 2\\tBahasa Ingg.\\tSejarah\\t\\tMa'rifatullah\")\n",
        "print(\"Jam 3\\tInformatika\\tOlahraga\\tBiologi\")"
      ],
      "metadata": {
        "colab": {
          "base_uri": "https://localhost:8080/"
        },
        "id": "HR7L53GBLhyW",
        "outputId": "7f5dfe73-f72b-4f8a-8d2d-ff836d48cf08"
      },
      "execution_count": null,
      "outputs": [
        {
          "output_type": "stream",
          "name": "stdout",
          "text": [
            "Bu Shinta berkata, \"Berikut adalah judul pelajaran hari senin selasa rabu silahkan disimpan di laptop masing masing di folder local disk D:\\Jadwal Pelajaran\\Kelas XI Semester 1\"\n",
            "\n",
            "Jadwal Pelajaran Mingguan\n",
            "====================================================\n",
            "Jam\tSenin\t\tSelasa\t\tRabu\n",
            "Jam 1\tMatematika\tBahasa\t\tInformatika\n",
            "Jam 2\tBahasa Ingg.\tSejarah\t\tMa'rifatullah\n",
            "Jam 3\tInformatika\tOlahraga\tBiologi\n"
          ]
        }
      ]
    },
    {
      "cell_type": "markdown",
      "source": [
        "#Parameter Fungsi"
      ],
      "metadata": {
        "id": "CKpIa_aEJQAd"
      }
    },
    {
      "cell_type": "code",
      "source": [
        "nama_siswa_1 = \"Naufal\"\n",
        "nama_siswa_2 = \"Favian\"\n",
        "nama_siswa_3 = \"Humaira\"\n",
        "nama_siswa_4 = \"Fazila\"\n",
        "\n",
        "print(nama_siswa_1, nama_siswa_2, nama_siswa_3, nama_siswa_4, sep=\"~\")"
      ],
      "metadata": {
        "colab": {
          "base_uri": "https://localhost:8080/"
        },
        "id": "_ipTDzXaEyA9",
        "outputId": "9aff37e9-3c01-4287-9a6b-b12a48abeca8"
      },
      "execution_count": null,
      "outputs": [
        {
          "output_type": "stream",
          "name": "stdout",
          "text": [
            "Naufal~Favian~Humaira~Fazila\n"
          ]
        }
      ]
    },
    {
      "cell_type": "code",
      "source": [
        "print(nama_siswa_1, end=\"~\")\n",
        "print(nama_siswa_2)\n",
        "print(nama_siswa_3, end=\"~\")\n",
        "print(nama_siswa_4)"
      ],
      "metadata": {
        "colab": {
          "base_uri": "https://localhost:8080/"
        },
        "id": "9J7mqMZTGmi-",
        "outputId": "56e358ab-c3f0-4bdc-f560-b444c0fb1487"
      },
      "execution_count": null,
      "outputs": [
        {
          "output_type": "stream",
          "name": "stdout",
          "text": [
            "Naufal~Favian\n",
            "Humaira~Fazila\n"
          ]
        }
      ]
    }
  ]
}