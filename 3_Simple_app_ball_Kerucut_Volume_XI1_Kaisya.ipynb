{
  "nbformat": 4,
  "nbformat_minor": 0,
  "metadata": {
    "colab": {
      "provenance": [],
      "authorship_tag": "ABX9TyMKojME//EZEWm511kTH954",
      "include_colab_link": true
    },
    "kernelspec": {
      "name": "python3",
      "display_name": "Python 3"
    },
    "language_info": {
      "name": "python"
    }
  },
  "cells": [
    {
      "cell_type": "markdown",
      "metadata": {
        "id": "view-in-github",
        "colab_type": "text"
      },
      "source": [
        "<a href=\"https://colab.research.google.com/github/kaisyaoktina/KKASmt1/blob/main/3_Simple_app_ball_Kerucut_Volume_XI1_Kaisya.ipynb\" target=\"_parent\"><img src=\"https://colab.research.google.com/assets/colab-badge.svg\" alt=\"Open In Colab\"/></a>"
      ]
    },
    {
      "cell_type": "markdown",
      "source": [
        "Nama : Kaisya Oktina Mawaddah\n",
        "\n",
        "Kelas: XI-1\n",
        "\n",
        "Absen: 21\n",
        "\n",
        "Nama Kelompok : Perfect"
      ],
      "metadata": {
        "id": "Mrj2v-TygIqP"
      }
    },
    {
      "cell_type": "markdown",
      "source": [
        "#Aplikasi Sederhana Menghitung Volume Kerucut"
      ],
      "metadata": {
        "id": "8XL06yaudFFT"
      }
    },
    {
      "cell_type": "code",
      "execution_count": null,
      "metadata": {
        "colab": {
          "base_uri": "https://localhost:8080/"
        },
        "id": "BYi29CObbydx",
        "outputId": "23cc53ac-21e5-4451-e758-14d1ecbeb86c"
      },
      "outputs": [
        {
          "output_type": "stream",
          "name": "stdout",
          "text": [
            "Masukkan jari jari Kerucut: 7\n",
            "Masukkan tinggi Kerucut: 10\n",
            "Volume Kerucut adalah 512.8666666666666 cm^3\n"
          ]
        }
      ],
      "source": [
        "jari_jari = float(input(\"Masukkan jari jari Kerucut: \"))\n",
        "tinggi = float(input(\"Masukkan tinggi Kerucut: \"))\n",
        "pi = 3.14\n",
        "\n",
        "volume = (1/3) * pi * (jari_jari**2) * tinggi\n",
        "\n",
        "print(f\"Volume Kerucut adalah {volume} cm^3\")"
      ]
    }
  ]
}